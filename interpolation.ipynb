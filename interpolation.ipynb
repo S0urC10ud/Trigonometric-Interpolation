{
 "cells": [
  {
   "cell_type": "markdown",
   "metadata": {},
   "source": [
    "# Trigonometric Interpolation\r\n",
    "## Sources\r\n",
    "Main Source: http://sites.science.oregonstate.edu/~restrepo/475A/Notes/sourcea.pdf"
   ]
  },
  {
   "cell_type": "markdown",
   "metadata": {},
   "source": [
    "## Basic Constraints\r\n",
    "The goal is to approximate a function by using a trigonometric polynomial:\r\n",
    "\r\n",
    "$$\r\n",
    "p_n(t)=a_0+\\sum_{\\ell=1}^n\\left[a_{\\ell} \\cos (\\ell t)+b_{\\ell} \\sin (\\ell t)\\right]\r\n",
    "$$\r\n",
    "\r\n",
    "For solving this with polynomial approximation, we first transfer this to an equivalent equation in the complex plane:\r\n",
    "[Check out our visualisation in GeoGebra](https://www.geogebra.org/calculator/xv97apnd)\r\n",
    "\r\n",
    "Once playing the animation, one can see that z7 is moving on the real axis over the time variable t from 1 to -1 like `sin(x)` would behave, this behavior (phase shift and amplitude) can be altered by changing the parameters `a` and `b` of the complex numbers `z1` and `z2`, which are the only inputs:  \r\n",
    "![Image of a complex trigonometric function](images/trigInterpolation.png)"
   ]
  },
  {
   "cell_type": "markdown",
   "metadata": {},
   "source": [
    "## Formalizing the interpolation task\r\n",
    "For an $n^{\\text {th }}$ degree trigonometric polynomial approximation of $f(x)$ we want $f\\left(t_{\\ell}\\right)=p_n\\left(t_{\\ell}\\right) \\quad \\ell=0,1,2, \\ldots, 2 n$ where\r\n",
    "$$\r\n",
    "0 \\leq t_0<t_1<t_2 \\cdots<t_{2 n}<2 \\pi .\r\n",
    "$$\r\n",
    "We need $2 n+1$ points in $t$ since we need to fix $2 n+1$ coefficients in (35). Recall that $e^{i \\theta}=\\cos \\theta+i \\sin \\theta$, hence (35) can be recast as\r\n",
    "$$\r\n",
    "p_n(t)=\\sum_{\\ell=-n}^n c_{\\ell} e^{i \\ell t}\r\n",
    "$$\r\n",
    "where $c_0=a_0 \\quad c_{\\ell}=\\frac{1}{2}\\left(a_{\\ell}-i b_{\\ell}\\right) \\quad c_{-\\ell}=\\frac{1}{2}\\left(a_{\\ell}+i b_{\\ell}\\right)$, for $1 \\leq \\ell \\leq n$. So, to determine the $\\left\\{c_{\\ell}\\right\\}$ 's we can find $\\left\\{a_{\\ell}\\right\\}$ and $\\left\\{b_{\\ell}\\right\\}$ (or vice versa).\r\n",
    "Let $z=e^{i t}$. Then\r\n",
    "$$\r\n",
    "p_n(z)=\\sum_{\\ell=-n}^n c_{\\ell} z^{\\ell} .\r\n",
    "$$\r\n",
    "Thus, $z^n p_n(z)$ is a polynomial of degree $\\leq 2 n$.\r\n",
    "Interpolation requires that\r\n",
    "$$\r\n",
    "p_n\\left(z_{\\ell}\\right)=f\\left(t_{\\ell}\\right) \\quad \\ell=0,1, \\cdots, 2 n .\r\n",
    "$$\r\n",
    "\r\n",
    "Define a grid of points by\r\n",
    "$$\r\n",
    "t_{\\ell}=\\frac{2 \\pi}{2 n+1} \\ell \\quad \\ell=0,1, \\ldots, 2 n\r\n",
    "$$\r\n",
    "\r\n",
    "Another custom GeoGebra animation, which can be found [here](https://www.geogebra.org/calculator/yjed3dv4) illustrates this grid of points in the range from 0 to $2 \\pi$. Nonetheless, it is important to notice, that it is **not contignuous** (as is misleadingly implied by the blue-ish background), since $l$ has a step-size of 1.\r\n",
    "\r\n",
    "![pointGrid](images/pointGrid.png)"
   ]
  },
  {
   "cell_type": "markdown",
   "metadata": {},
   "source": [
    "## Solution\r\n",
    "Theorem: Let $\\left\\{t_{\\ell}\\right\\}_{\\ell=0}^{2 n}$ be given by (37). Then the coefficients $c_k$ of\r\n",
    "$$\r\n",
    "p_n\\left(t_{\\ell}\\right) = \\sum_{k=-n}^n c_k e^{i k t_{\\ell}}\r\n",
    "$$\r\n",
    "for $\\ell=0,1 \\cdots, 2 n$ are given by\r\n",
    "$$\r\n",
    "c_k=\\frac{1}{2 n+1} \\sum_{\\ell=0}^{2 n} e^{-i k t_{\\ell}} f\\left(t_{\\ell}\\right) \\quad k=-n, \\ldots, n\r\n",
    "$$\r\n",
    "\r\n",
    "Further, the real part $a_{\\ell}$ of the coefficient (as defined above, such that $c_{\\ell}$ is $\\frac{1}{2}\\left(a_{\\ell}-i b_{\\ell}\\right)$) can be extracted by adding the complex coefficient to its complex conjugate:\r\n",
    "$$a_{\\ell}=c_{\\ell}+c_{-\\ell}=\\frac{1}{2 n+1} \\sum_{k=0}^{2 n}\\left(e^{-i \\ell t_k}+e^{i \\ell t_k}\\right) f\\left(t_k\\right)=\\frac{2}{2 n+1} \\sum_{k=0}^{2 n} f\\left(t_k\\right) \\cos \\ell t_k, $$\r\n",
    "\r\n",
    "\r\n",
    "And the complex part (again, because of our special definition) can be calculated, by performing the following operation:\r\n",
    "$$\r\n",
    "b_{\\ell}=i\\left(c_{-\\ell}-c_{\\ell}\\right)=\\frac{2}{2 n+1} \\sum_{k=0}^{2 n} f\\left(t_k\\right) \\sin \\ell t_k\r\n",
    "$$"
   ]
  },
  {
   "cell_type": "markdown",
   "metadata": {},
   "source": [
    "## Proof\r\n",
    "Proof: Want $p_n\\left(t_{\\ell}\\right)=f\\left(t_{\\ell}\\right) \\quad$ for $\\ell=0,1, \\ldots, 2 n$. Hence\r\n",
    "$$\r\n",
    "\\sum_{m=-n}^n c_m e^{i m t_{\\ell}}=f\\left(t_{\\ell}\\right) \\quad \\text { for } \\ell=0,1, \\ldots, 2 n .\r\n",
    "$$\r\n",
    "Multiply both sides by $e^{-i k t_{\\ell}}$ and sum over $0 \\leq \\ell \\leq 2 n$ (as this will cancel out conveniently later),\r\n",
    "$$\r\n",
    "\\sum_{\\ell=0}^{2 n} \\sum_{m=-n}^n c_m e^{i(m-k) t_{\\ell}}=\\sum_{\\ell=0}^{2 n} e^{-i k t_{\\ell}} f\\left(t_{\\ell}\\right)\r\n",
    "$$\r\n",
    "and interchange the order of summations on the left hand side:\r\n",
    "$$\r\n",
    "\\sum_{m=-n}^n c_m \\underbrace{\\sum_{\\ell=0}^{2 n} e^{i(m-k) t_{\\ell}}}_{\\text {look at this now }}=\\sum_{\\ell=0}^{2 n} e^{-i k t_{\\ell}} f\\left(t_{\\ell}\\right) .\r\n",
    "$$\r\n",
    "When $m=k$\r\n",
    "$$\r\n",
    "\\sum_{\\ell=0}^{2 n} e^{i(m-k) t_{\\ell}}=\\sum_{\\ell=0}^{2 n} 1=2 n+1 .\r\n",
    "$$\r\n",
    "\r\n",
    "When $m \\neq k$, the result is 0:\r\n",
    "\r\n",
    "First note that $i(m-k) t_{\\ell}=\\frac{i \\ell(m-k) 2 \\pi}{2 n+1}$.\r\n",
    "Let $r=e^{i(m-k) 2 \\pi /(2 n+1)}$ and note $r^{2 n+1}=1$. Thus\r\n",
    "$$\r\n",
    "\\sum_{\\ell=0}^{2 n} e^{i(m-k) t_{\\ell}}=\\sum_{\\ell=0}^{2 n} r^{\\ell}=\\frac{r^{2 n+1}-1}{r-1}=0 .\r\n",
    "$$\r\n",
    "\r\n",
    "Thus, we conclude from the double summation and the case of m=k:\r\n",
    "$$\r\n",
    "c_k=\\frac{1}{2 n+1} \\sum_{\\ell=0}^{2 n} e^{-i k t_{\\ell}} f\\left(t_{\\ell}\\right) \\quad k=-n, \\cdots n\r\n",
    "$$"
   ]
  },
  {
   "cell_type": "markdown",
   "metadata": {},
   "source": [
    "## Example from the paper\r\n",
    "Example Find the trigonometric polynomial interpolation of degree 2 to $f(t)=e^{\\sin t+\\cos t}$ on $[0,2 \\pi]$\r\n",
    "$$\r\n",
    "p_2(t)=\\frac{a_0}{2}+c_1 \\cos t+c_2 \\cos 2 t+b_1 \\sin t+b_2 \\sin 2 t\r\n",
    "$$\r\n",
    "such that $p_2\\left(t_{\\ell}\\right)=e^{\\sin t_{\\ell}+\\cos t_{\\ell}} \\quad t_{\\ell}=\\frac{2 \\pi}{5} \\ell$ where $\\ell=0,1,2,3,4$.\r\n",
    "$$\r\n",
    "\\begin{aligned}\r\n",
    "& a_{\\ell}=\\frac{2}{2 n+1} \\sum_{k=0}^{2 n} f\\left(t_k\\right) \\cos \\ell t_k \\\\\r\n",
    "& b_{\\ell}=\\frac{2}{2 n+1} \\sum_{k=0}^{2 n} f\\left(t_k\\right) \\sin \\ell t_k . \\\\\r\n",
    "& \\Rightarrow a_0=3.12764 \\quad a_1=1.24872 \\quad a_2=-0.09426 \\quad b_1=1.27135 \\quad b_2=0.49441 .\r\n",
    "\\end{aligned}\r\n",
    "$$\r\n",
    "\r\n",
    "![Example trigonometric interpolation from the paper](images/exampleInterpolation.png)"
   ]
  },
  {
   "cell_type": "markdown",
   "metadata": {},
   "source": [
    "## General case\r\n",
    "The formulas used above only work, if a similar function f(x) is already known, however it does not work with arbitrary data points. Furthermore, as previously, there should be no assumption about equidistance or similar restrictive concepts.\r\n",
    "\r\n",
    "Therefore, [here](https://en.wikipedia.org/wiki/Trigonometric_interpolation) we found a general case, which builds upon the previous ideas and uses the Lagrange formula for polynomial interpolation:\r\n",
    "\r\n",
    "The polynomial formulation in the complex plane yields that the solution can be written in the form\r\n",
    "$$\r\n",
    "p(x)=\\sum_{k=0}^{2 K} y_k t_k(x)\r\n",
    "$$\r\n",
    "where the basis functions can be determined in the following way:\r\n",
    "$$\r\n",
    "t_k(x)=e^{-i K x+i K x_k} \\prod_{\\substack{m=0 \\\\ m \\neq k}}^{2 K} \\frac{e^{i x}-e^{i x_m}}{e^{i x_k}-e^{i x_m}}\r\n",
    "$$\r\n",
    "\r\n",
    "The factor $e^{-i K x+i K x_k}$ in this formula compensates for the fact that the complex plane formulation contains also negative powers of $e^{i x}$ and is therefore not a polynomial expression in $e^{i x}$. The correctness of this expression can easily be verified by observing that $t_k\\left(x_k\\right)=1$ and that $t_k(x)$ is a linear combination of the right powers of $e^{i x}$. Upon using the identity\r\n",
    "$$\r\n",
    "e^{i z_1}-e^{i z_2}=2 i \\sin \\frac{1}{2}\\left(z_1-z_2\\right) e^{\\left(z_1+z_2\\right) i / 2}\r\n",
    "$$\r\n",
    "the coefficient $t_k(x)$ can be written in the form\r\n",
    "$$\r\n",
    "t_k(x)=\\prod_{\\substack{m=0 \\\\ m \\neq k}}^{2 K} \\frac{\\sin \\frac{1}{2}\\left(x-x_m\\right)}{\\sin \\frac{1}{2}\\left(x_k-x_m\\right)}\r\n",
    "$$\r\n"
   ]
  },
  {
   "cell_type": "markdown",
   "metadata": {},
   "source": [
    "# Implementation in Python"
   ]
  },
  {
   "cell_type": "code",
   "execution_count": 4,
   "metadata": {},
   "outputs": [],
   "source": [
    "import numpy as np\r\n",
    "import matplotlib.pyplot as plt\r\n",
    "import math"
   ]
  },
  {
   "cell_type": "code",
   "execution_count": 15,
   "metadata": {},
   "outputs": [],
   "source": [
    "def basis_fun(k, x, xlist):\r\n",
    "  product = 1\r\n",
    "  for m in range(len(xlist)):\r\n",
    "    if m == k:\r\n",
    "      continue\r\n",
    "    product *= math.sin(1/2*(x-xlist[m]))/math.sin(1/2*(xlist[k]-xlist[m]))\r\n",
    "  return product\r\n",
    "  \r\n",
    "def lagrange_interpolation(curr_x, x, y):\r\n",
    "  temp_sum = 0\r\n",
    "  for k in range(x.size):\r\n",
    "    temp_sum += y[k] * basis_fun(k, curr_x, x)\r\n",
    "  return temp_sum\r\n",
    "\r\n",
    "def trig_interpolate(points, plot = False):\r\n",
    "  assert type(points) == set or type(points) == list and len(points) >= 1 # give at least one point to interpolate\r\n",
    "\r\n",
    "  x = np.array([x for x,y in points])\r\n",
    "  y = np.array([y for x,y in points])\r\n",
    "  plot_space = np.linspace(min(x)-5,max(x)+5, 400)\r\n",
    "\r\n",
    "  u,c = np.unique(x, return_counts=True)\r\n",
    "  assert len(u[c>1]) == 0 # Ensure no duplicate x value is used (otherwise there is no function)\r\n",
    "\r\n",
    "  mapped_fun_points = np.array(list(map(lambda x_val: lagrange_interpolation(x_val,x,y), plot_space)))\r\n",
    "\r\n",
    "  if plot:\r\n",
    "    \r\n",
    "    plt.scatter(x,y)\r\n",
    "    plt.plot(plot_space, mapped_fun_points)\r\n",
    "  \r\n",
    "  return mapped_fun_points"
   ]
  },
  {
   "cell_type": "code",
   "execution_count": 16,
   "metadata": {},
   "outputs": [
    {
     "data": {
      "image/png": "[encoded data removed]",
      "text/plain": [
       "<Figure size 432x288 with 1 Axes>"
      ]
     },
     "metadata": {
      "needs_background": "light"
     },
     "output_type": "display_data"
    }
   ],
   "source": [
    "y_vals = trig_interpolate(points = {(-2,0), (1,2),(3,5),(4,-7),(6,3), (9, -2)}, plot= True)"
   ]
  }
 ],
 "metadata": {
  "interpreter": {
   "hash": "434b6027482ce11b11ee4b4c9fcebdbdce384fa4b08e0eb647b0c7e8c80d9920"
  },
  "kernelspec": {
   "display_name": "Python 3.9.6 64-bit",
   "name": "python3"
  },
  "language_info": {
   "codemirror_mode": {
    "name": "ipython",
    "version": 3
   },
   "file_extension": ".py",
   "mimetype": "text/x-python",
   "name": "python",
   "nbconvert_exporter": "python",
   "pygments_lexer": "ipython3",
   "version": "3.9.6"
  },
  "orig_nbformat": 4,
  "vscode": {
   "interpreter": {
    "hash": "369f2c481f4da34e4445cda3fffd2e751bd1c4d706f27375911949ba6bb62e1c"
   }
  }
 },
 "nbformat": 4,
 "nbformat_minor": 2
}